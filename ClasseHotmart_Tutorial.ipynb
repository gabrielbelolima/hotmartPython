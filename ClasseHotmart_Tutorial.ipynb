{
 "cells": [
  {
   "cell_type": "markdown",
   "id": "b5d59d58",
   "metadata": {},
   "source": [
    "# Import the Class"
   ]
  },
  {
   "cell_type": "code",
   "execution_count": null,
   "id": "9792796b-25a3-4e41-bdfb-8f6e87552592",
   "metadata": {},
   "outputs": [],
   "source": [
    "from hotmart import *\n",
    "from login_params import login_params_hm"
   ]
  },
  {
   "cell_type": "code",
   "execution_count": null,
   "id": "13546e80-3ce6-4e06-af86-0df904efeaa5",
   "metadata": {},
   "outputs": [],
   "source": [
    "hm = HotMart(login_params_hm)"
   ]
  },
  {
   "cell_type": "markdown",
   "id": "2c3c2e26",
   "metadata": {},
   "source": [
    "# Examples"
   ]
  },
  {
   "cell_type": "code",
   "execution_count": null,
   "id": "d9d5664d-6ecd-4ebd-8941-43d48d73983b",
   "metadata": {
    "scrolled": true
   },
   "outputs": [],
   "source": [
    "# Getting transactions from dt_start until dt_end!\n",
    "dt_start = '2024-02-15 03:00:00'\n",
    "dt_end = '2024-02-16 03:00:00'\n",
    "formato = '%Y-%m-%d %H:%M:%S' # Format String\n",
    "\n",
    "df_hm = hm.get_sales_hm(\n",
    "    dt_start, \n",
    "    dt_end, \n",
    "    formato, # format string\n",
    "    pbar = True # if True (Default), shows progress bar\n",
    ")"
   ]
  },
  {
   "cell_type": "code",
   "execution_count": null,
   "id": "613a37f0-bcef-4390-a074-8f7f6ec8b8f5",
   "metadata": {},
   "outputs": [],
   "source": [
    "# Loads list of Hotmart's transactions by Id\n",
    "hm.get_transaction_hm(['transactionId1', 'transactionId2', 'transactionId3']]).style"
   ]
  },
  {
   "cell_type": "code",
   "execution_count": null,
   "id": "1ad15502-b11f-4b2b-aa79-e75759d3d727",
   "metadata": {},
   "outputs": [],
   "source": []
  }
 ],
 "metadata": {
  "kernelspec": {
   "display_name": "Python 3 (ipykernel)",
   "language": "python",
   "name": "python3"
  },
  "language_info": {
   "codemirror_mode": {
    "name": "ipython",
    "version": 3
   },
   "file_extension": ".py",
   "mimetype": "text/x-python",
   "name": "python",
   "nbconvert_exporter": "python",
   "pygments_lexer": "ipython3",
   "version": "3.10.13"
  }
 },
 "nbformat": 4,
 "nbformat_minor": 5
}
